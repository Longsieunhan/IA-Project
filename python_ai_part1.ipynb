{
  "nbformat": 4,
  "nbformat_minor": 0,
  "metadata": {
    "colab": {
      "provenance": [],
      "include_colab_link": true
    },
    "kernelspec": {
      "name": "python3",
      "display_name": "Python 3"
    },
    "language_info": {
      "name": "python"
    }
  },
  "cells": [
    {
      "cell_type": "markdown",
      "metadata": {
        "id": "view-in-github",
        "colab_type": "text"
      },
      "source": [
        "<a href=\"https://colab.research.google.com/github/Longsieunhan/IA-Project/blob/master/python_ai_part1.ipynb\" target=\"_parent\"><img src=\"https://colab.research.google.com/assets/colab-badge.svg\" alt=\"Open In Colab\"/></a>"
      ]
    },
    {
      "cell_type": "markdown",
      "source": [
        "In this tutorial, we will cover Basic Python in this Google Colab environment.\n",
        "\n",
        "\n",
        "\n",
        "1.   Basic data types (Containers, Lists, Dictionaries)\n",
        "2.   Functions\n",
        "3.   Classes\n",
        "\n",
        "\n",
        "\n",
        "\n",
        "\n"
      ],
      "metadata": {
        "id": "2az3t672znAH"
      }
    },
    {
      "cell_type": "markdown",
      "source": [
        "# A Brief Note on Python Versions\n",
        "As of Janurary 1, 2020, Python has officially dropped support for python2. We'll be using Python 3.7 for this iteration of the course. You can check your Python version at the command line by running `python --version`. In Colab, we can enforce the Python version by clicking `Runtime -> Change Runtime Type` and selecting `python3`. Note that as of April 2020, Colab uses Python 3.6.9 which should run everything without any errors."
      ],
      "metadata": {
        "id": "DD2ORk0O0bdi"
      }
    },
    {
      "cell_type": "code",
      "source": [
        "# Check python version\n",
        "\n",
        "!python --version"
      ],
      "metadata": {
        "id": "j9YZ0Lly0oEk",
        "colab": {
          "base_uri": "https://localhost:8080/"
        },
        "outputId": "8bfb0a03-9aaf-4793-d781-631632873d97"
      },
      "execution_count": null,
      "outputs": [
        {
          "output_type": "stream",
          "name": "stdout",
          "text": [
            "Python 3.10.12\n"
          ]
        }
      ]
    },
    {
      "cell_type": "markdown",
      "source": [
        "* Python is a high-level, *dynamically typed* multiparadigm programming language.\n",
        "* Python code is often said to be *almost like pseudocode*, since it allows you to express very powerful ideas in very few lines of code while being very readable.\n",
        "\n",
        "As an example, here is an implementation of the classic quicksort algorithm in Python:"
      ],
      "metadata": {
        "id": "OLDJ_vc_2Uot"
      }
    },
    {
      "cell_type": "markdown",
      "source": [
        "**What do we mean by dynamically typed programming language?**\n",
        "\n",
        "Type of variable is determine at **runtime**\n"
      ],
      "metadata": {
        "id": "mMuoNTFB2mKW"
      }
    },
    {
      "cell_type": "code",
      "source": [
        "def quicksort(arr):\n",
        "    if len(arr) <= 1:\n",
        "        return arr\n",
        "    pivot = arr[len(arr) // 2]\n",
        "    left = [x for x in arr if x < pivot]\n",
        "    middle = [x for x in arr if x == pivot]\n",
        "    right = [x for x in arr if x > pivot]\n",
        "    return quicksort(left) + middle + quicksort(right)\n",
        "\n",
        "print(quicksort([3,6,8,10,1,2,1]))"
      ],
      "metadata": {
        "colab": {
          "base_uri": "https://localhost:8080/"
        },
        "id": "l9jydL0226x3",
        "outputId": "5a8290d2-4d31-45ee-ef19-338bd73e65b8"
      },
      "execution_count": null,
      "outputs": [
        {
          "output_type": "stream",
          "name": "stdout",
          "text": [
            "[1, 1, 2, 3, 6, 8, 10]\n"
          ]
        }
      ]
    },
    {
      "cell_type": "markdown",
      "source": [
        "# Basic Data Types"
      ],
      "metadata": {
        "id": "4hPpHf2I3Utu"
      }
    },
    {
      "cell_type": "markdown",
      "source": [
        "## Numbers"
      ],
      "metadata": {
        "id": "q7mS-EHb3Xtp"
      }
    },
    {
      "cell_type": "markdown",
      "source": [
        "Integers and floats work as you would expect from other languages like Java:"
      ],
      "metadata": {
        "id": "Ue72mETr3jvL"
      }
    },
    {
      "cell_type": "code",
      "source": [
        "# create a variable x, initialize it to 10\n",
        "# print x and its data type\n",
        "\n",
        "x = 10;\n",
        "print(x);"
      ],
      "metadata": {
        "colab": {
          "base_uri": "https://localhost:8080/"
        },
        "id": "ClYtUXGy3aPL",
        "outputId": "ded00288-3803-4c20-946c-66c279af866d"
      },
      "execution_count": null,
      "outputs": [
        {
          "output_type": "stream",
          "name": "stdout",
          "text": [
            "10\n"
          ]
        }
      ]
    },
    {
      "cell_type": "code",
      "source": [
        "# Addition - add 1 to x and print\n",
        "\n",
        "x = x + 1\n",
        "print(x);\n",
        "\n",
        "# Subtraction - subtract 1 from x and print\n",
        "\n",
        "x = x-1\n",
        "print(x);\n",
        "\n",
        "# Multiplication - multiply x by 2 and print\n",
        "\n",
        "x=x*2\n",
        "print(x);\n",
        "\n",
        "# Exponentiation - print the result of x to the power of 2\n",
        "x=x*x\n",
        "print(x);"
      ],
      "metadata": {
        "id": "daQrgt4R38ub",
        "colab": {
          "base_uri": "https://localhost:8080/"
        },
        "outputId": "f1995c61-4ea4-4000-edc5-fab6c7962837"
      },
      "execution_count": null,
      "outputs": [
        {
          "output_type": "stream",
          "name": "stdout",
          "text": [
            "11\n",
            "10\n",
            "20\n",
            "400\n"
          ]
        }
      ]
    },
    {
      "cell_type": "code",
      "source": [
        "# Increment x by 2, save it to itself and print\n",
        "x = x+2\n",
        "print(x);\n",
        "\n",
        "# Decrement x by 2, save it to itself and print\n",
        "x = x-2\n",
        "print(x);\n",
        "\n",
        "# Multiply x by 2, save it to itself and print\n",
        "\n",
        "x=x*2\n",
        "print(x);\n",
        "# Divide x by 2, save it to itself and print\n",
        "\n",
        "x=x/2\n",
        "print(x)"
      ],
      "metadata": {
        "id": "yvZQyNiV4Yhv",
        "colab": {
          "base_uri": "https://localhost:8080/"
        },
        "outputId": "42eaa5ad-a662-4223-c59c-d1995b29659d"
      },
      "execution_count": null,
      "outputs": [
        {
          "output_type": "stream",
          "name": "stdout",
          "text": [
            "402\n",
            "400\n",
            "800\n",
            "400.0\n"
          ]
        }
      ]
    },
    {
      "cell_type": "code",
      "source": [
        "# Working with floats\n",
        "y = 2.5\n",
        "\n",
        "# print type of y\n",
        "\n",
        "print(type(y))\n",
        "print(y, y + 1, y * 2, y ** 2)"
      ],
      "metadata": {
        "id": "F3l9h42g466v",
        "colab": {
          "base_uri": "https://localhost:8080/"
        },
        "outputId": "f6adf515-4968-48e6-f7a5-a3ddd97113a6"
      },
      "execution_count": null,
      "outputs": [
        {
          "output_type": "stream",
          "name": "stdout",
          "text": [
            "<class 'float'>\n",
            "2.5 3.5 5.0 6.25\n"
          ]
        }
      ]
    },
    {
      "cell_type": "markdown",
      "source": [
        "Note that unlike many languages, Python does not have unary increment (x++) or decrement (x--) operators."
      ],
      "metadata": {
        "id": "qfLsxinN5G0v"
      }
    },
    {
      "cell_type": "markdown",
      "source": [
        "## Booleans"
      ],
      "metadata": {
        "id": "ESiMO9JD5N2N"
      }
    },
    {
      "cell_type": "markdown",
      "source": [
        "Python implements all of the usual operators for Boolean logic, but uses English words rather than symbols (&&, ||, etc.):"
      ],
      "metadata": {
        "id": "gQfECIeD5by6"
      }
    },
    {
      "cell_type": "code",
      "source": [
        "t, f = True, False\n",
        "\n",
        "# print type of t and f\n",
        "\n",
        "print(type(t),type(f));"
      ],
      "metadata": {
        "id": "RODV_UsP5GVv",
        "colab": {
          "base_uri": "https://localhost:8080/"
        },
        "outputId": "5fa84c55-9657-4872-b163-7e8bb9faff52"
      },
      "execution_count": null,
      "outputs": [
        {
          "output_type": "stream",
          "name": "stdout",
          "text": [
            "<class 'bool'> <class 'bool'>\n"
          ]
        }
      ]
    },
    {
      "cell_type": "code",
      "source": [
        "# Logical AND\n",
        "print(t and f)\n",
        "# Logical OR\n",
        "print(t or f)\n",
        "\n",
        "# Logical NOT\n",
        "print(not t)\n",
        "# Logical XOR\n",
        "print(t ^ f)"
      ],
      "metadata": {
        "id": "ZrBnT12t5JR_",
        "colab": {
          "base_uri": "https://localhost:8080/"
        },
        "outputId": "a80dc184-f7dd-48a4-9415-4c7bd5808679"
      },
      "execution_count": null,
      "outputs": [
        {
          "output_type": "stream",
          "name": "stdout",
          "text": [
            "False\n",
            "True\n",
            "False\n",
            "True\n"
          ]
        }
      ]
    },
    {
      "cell_type": "markdown",
      "source": [
        "## Strings"
      ],
      "metadata": {
        "id": "8qD7Uf3K6UQ-"
      }
    },
    {
      "cell_type": "code",
      "source": [
        "hello = 'hello'   # String literals can use single quotes\n",
        "world = \"world\"   # or double quotes; it does not matter\n",
        "\n",
        "# print hello and its length\n",
        "\n",
        "print(hello, len(hello))"
      ],
      "metadata": {
        "id": "HdBSUeYt6BVg",
        "colab": {
          "base_uri": "https://localhost:8080/"
        },
        "outputId": "27901d92-d351-476c-8dde-2772a24ae1d4"
      },
      "execution_count": null,
      "outputs": [
        {
          "output_type": "stream",
          "name": "stdout",
          "text": [
            "hello 5\n"
          ]
        }
      ]
    },
    {
      "cell_type": "code",
      "source": [
        "hw12 = '{} {} {}'.format(hello, world, 12)  # string formatting\n",
        "print(hw12)"
      ],
      "metadata": {
        "colab": {
          "base_uri": "https://localhost:8080/"
        },
        "id": "sZ3ubOPu6PUR",
        "outputId": "0d3dcba9-7add-4203-b181-7911016749ad"
      },
      "execution_count": null,
      "outputs": [
        {
          "output_type": "stream",
          "name": "stdout",
          "text": [
            "hello world 12\n"
          ]
        }
      ]
    },
    {
      "cell_type": "markdown",
      "source": [
        "String objects have a bunch of useful methods; for example:"
      ],
      "metadata": {
        "id": "ynxnxFiD6c3-"
      }
    },
    {
      "cell_type": "code",
      "source": [
        "s = \"hello\"\n",
        "# Capitalize a string\n",
        "\n",
        "print(s.capitalize())\n",
        "# Convert a string to uppercase; prints \"HELLO\"\n",
        "print(s.upper())\n",
        "\n",
        "# Right-justify a string, padding with spaces\n",
        "print(s.rjust(4))\n",
        "\n",
        "# Center a string, padding with spaces\n",
        "print(s.center(4));\n",
        "\n",
        "# Replace all instances of one substring with another\n",
        "print(s.replace(\"l\", \"L\"))\n",
        "# ADD CODE HERE\n",
        "\n",
        "# Strip leading and trailing whitespace\n",
        "print(s.strip())\n",
        "\n",
        "# ADD CODE HERE"
      ],
      "metadata": {
        "id": "RHHTVH8B6e1S",
        "colab": {
          "base_uri": "https://localhost:8080/"
        },
        "outputId": "09d1f3e9-4c42-465d-ea85-ffe12350a16d"
      },
      "execution_count": null,
      "outputs": [
        {
          "output_type": "stream",
          "name": "stdout",
          "text": [
            "Hello\n",
            "HELLO\n",
            "hello\n",
            "hello\n",
            "heLLo\n",
            "hello\n"
          ]
        }
      ]
    },
    {
      "cell_type": "markdown",
      "source": [
        "# Containers"
      ],
      "metadata": {
        "id": "HhSLReQ869M_"
      }
    },
    {
      "cell_type": "markdown",
      "source": [
        "## Lists"
      ],
      "metadata": {
        "id": "H9t7Sgv27Jkr"
      }
    },
    {
      "cell_type": "markdown",
      "source": [
        "A list is the Python equivalent of an array, but is resizeable and can contain elements of different types:"
      ],
      "metadata": {
        "id": "Ns64Dnhx7Pzo"
      }
    },
    {
      "cell_type": "code",
      "source": [
        "xs = [3, 1, 2]   # Create a list\n",
        "\n",
        "# print the list\n",
        "\n",
        "print(xs)\n",
        "# print the length of the list\n",
        "\n",
        "print(len(xs))\n",
        "# print the second element in the list\n",
        "\n",
        "print(xs[1])\n",
        "# Negative indices count from the end of the list; print the element \"2\"\n",
        "\n",
        "print(xs[-1])\n",
        "# Lists can contain elements of different types\n",
        "\n",
        "print(xs)"
      ],
      "metadata": {
        "id": "zsWBt4Pj68r8",
        "colab": {
          "base_uri": "https://localhost:8080/"
        },
        "outputId": "93146fa6-f261-4373-e926-32dfa4ca595f"
      },
      "execution_count": null,
      "outputs": [
        {
          "output_type": "stream",
          "name": "stdout",
          "text": [
            "[3, 1, 2]\n",
            "3\n",
            "1\n",
            "2\n",
            "[3, 1, 2]\n"
          ]
        }
      ]
    },
    {
      "cell_type": "code",
      "source": [
        "# Lists can contain elements of different types\n",
        "\n",
        "# Set element at index 2 of the list to a string 'foo'\n",
        "\n",
        "# ADD CODE HERE\n",
        "\n",
        "xs[2] = \"foo\"\n",
        "print(xs)"
      ],
      "metadata": {
        "id": "8MCLQ3yVAqQV",
        "colab": {
          "base_uri": "https://localhost:8080/"
        },
        "outputId": "dbea751f-c430-4d17-b6fe-6268466b2634"
      },
      "execution_count": null,
      "outputs": [
        {
          "output_type": "stream",
          "name": "stdout",
          "text": [
            "[3, 1, 'foo']\n"
          ]
        }
      ]
    },
    {
      "cell_type": "code",
      "source": [
        "# Add a new element - string 'bar' - to the end of the list\n",
        "\n",
        "# ADD CODE HERE\n",
        "xs.append(\"bar\")\n",
        "print(xs)"
      ],
      "metadata": {
        "id": "iRlNjDFUBGoe",
        "colab": {
          "base_uri": "https://localhost:8080/"
        },
        "outputId": "746838b3-e0c2-4754-8b06-c2f17a718639"
      },
      "execution_count": null,
      "outputs": [
        {
          "output_type": "stream",
          "name": "stdout",
          "text": [
            "[3, 1, 'foo', 'bar']\n"
          ]
        }
      ]
    },
    {
      "cell_type": "code",
      "source": [
        "# Remove and return the last element of the list\n",
        "\n",
        "# ADD CODE HERE\n",
        "xs.pop()\n"
      ],
      "metadata": {
        "id": "d_0TAsPtBS4k",
        "colab": {
          "base_uri": "https://localhost:8080/",
          "height": 35
        },
        "outputId": "825b0516-4fbb-4621-dea3-ff93b23defce"
      },
      "execution_count": null,
      "outputs": [
        {
          "output_type": "execute_result",
          "data": {
            "text/plain": [
              "'bar'"
            ],
            "application/vnd.google.colaboratory.intrinsic+json": {
              "type": "string"
            }
          },
          "metadata": {},
          "execution_count": 101
        }
      ]
    },
    {
      "cell_type": "markdown",
      "source": [
        "## Slicing"
      ],
      "metadata": {
        "id": "hKiz7YBIaVnB"
      }
    },
    {
      "cell_type": "markdown",
      "source": [
        "In addition to accessing list elements one at a time, Python provides concise syntax to access sublists; this is known as slicing:"
      ],
      "metadata": {
        "id": "XLeepwNgageS"
      }
    },
    {
      "cell_type": "code",
      "source": [
        "# range is a built-in function that creates a list of integers\n",
        "nums = list(range(5))\n",
        "print(nums)"
      ],
      "metadata": {
        "colab": {
          "base_uri": "https://localhost:8080/"
        },
        "id": "zafM-YCBaaOm",
        "outputId": "96c13502-8291-414c-ddd7-e66b114094e7"
      },
      "execution_count": null,
      "outputs": [
        {
          "output_type": "stream",
          "name": "stdout",
          "text": [
            "[0, 1, 2, 3, 4]\n"
          ]
        }
      ]
    },
    {
      "cell_type": "code",
      "source": [
        "# Get a slice from index 2 to 4 (exclusive); prints \"[2, 3]\"\n",
        "slice_result=nums[2:4]\n",
        "print(slice_result)\n",
        "# ADD CODE HERE\n"
      ],
      "metadata": {
        "id": "BaJg4qvEaynt",
        "colab": {
          "base_uri": "https://localhost:8080/"
        },
        "outputId": "2c0f91a9-1c8d-4bdf-a314-e4a6fa81db43"
      },
      "execution_count": null,
      "outputs": [
        {
          "output_type": "stream",
          "name": "stdout",
          "text": [
            "[2, 3]\n"
          ]
        }
      ]
    },
    {
      "cell_type": "code",
      "source": [
        "# Get a slice from index 2 to the end; prints \"[2, 3, 4]\"\n",
        "\n",
        "# ADD CODE HERE\n",
        "slice_result1=nums[2:]\n",
        "print(slice_result1)"
      ],
      "metadata": {
        "id": "jExwiX0Wa4mm",
        "colab": {
          "base_uri": "https://localhost:8080/"
        },
        "outputId": "a51f3697-b90f-4230-da6c-c6ed064b394c"
      },
      "execution_count": null,
      "outputs": [
        {
          "output_type": "stream",
          "name": "stdout",
          "text": [
            "[2, 3, 4]\n"
          ]
        }
      ]
    },
    {
      "cell_type": "code",
      "source": [
        "# Get a slice from the start to index 2 (exclusive); prints \"[0, 1]\"\n",
        "\n",
        "# ADD CODE HERE\n",
        "slide_result2=nums[0:2]\n",
        "print(slide_result2)"
      ],
      "metadata": {
        "id": "g0Vd7B0sbFWr",
        "colab": {
          "base_uri": "https://localhost:8080/"
        },
        "outputId": "a30e2d0f-9a1c-4371-cabe-e5669ce896c6"
      },
      "execution_count": null,
      "outputs": [
        {
          "output_type": "stream",
          "name": "stdout",
          "text": [
            "[0, 1]\n"
          ]
        }
      ]
    },
    {
      "cell_type": "code",
      "source": [
        "# Get a slice of the whole list; prints [\"0, 1, 2, 3, 4]\"\n",
        "print(nums[:5])\n",
        "\n",
        "# ADD CODE HERE"
      ],
      "metadata": {
        "id": "IvPLmeNrbXeC",
        "colab": {
          "base_uri": "https://localhost:8080/"
        },
        "outputId": "756efdde-72e4-4fa6-e4c5-20c904d1cf56"
      },
      "execution_count": null,
      "outputs": [
        {
          "output_type": "stream",
          "name": "stdout",
          "text": [
            "[0, 1, 2, 3, 4]\n"
          ]
        }
      ]
    },
    {
      "cell_type": "code",
      "source": [
        "# Slice indices can be negative; prints [\"0, 1, 2, 3]\"\n",
        "print(nums[:-2])\n",
        "\n",
        "# ADD CODE HERE"
      ],
      "metadata": {
        "id": "NgKFY5T0bZuV",
        "colab": {
          "base_uri": "https://localhost:8080/"
        },
        "outputId": "5b112b03-d9a5-40d1-9db6-958baaba97cd"
      },
      "execution_count": null,
      "outputs": [
        {
          "output_type": "stream",
          "name": "stdout",
          "text": [
            "[0, 1, 2]\n"
          ]
        }
      ]
    },
    {
      "cell_type": "code",
      "source": [
        "nums[2:4] = [8, 9] # Assign a new sublist to a slice\n",
        "print(nums)         # Prints \"[0, 1, 8, 9, 4]\""
      ],
      "metadata": {
        "colab": {
          "base_uri": "https://localhost:8080/"
        },
        "id": "I-PZQ9aWbiBC",
        "outputId": "e495bf1e-add5-4d6b-9a0e-5e80ed1d9b20"
      },
      "execution_count": null,
      "outputs": [
        {
          "output_type": "stream",
          "name": "stdout",
          "text": [
            "[0, 1, 8, 9, 4]\n"
          ]
        }
      ]
    },
    {
      "cell_type": "markdown",
      "source": [
        "## Loops"
      ],
      "metadata": {
        "id": "tXPQ0rqHbpMs"
      }
    },
    {
      "cell_type": "markdown",
      "source": [
        "You can loop over the elements of a list like this:"
      ],
      "metadata": {
        "id": "oyn0_jUybxHd"
      }
    },
    {
      "cell_type": "code",
      "source": [
        "animals = ['cat', 'dog', 'monkey']\n",
        "for animal in animals:\n",
        "    print(animal)"
      ],
      "metadata": {
        "colab": {
          "base_uri": "https://localhost:8080/"
        },
        "id": "BnOHl3Q-bsVu",
        "outputId": "4bf619fc-487c-47c7-b0b7-975720ef1373"
      },
      "execution_count": null,
      "outputs": [
        {
          "output_type": "stream",
          "name": "stdout",
          "text": [
            "cat\n",
            "dog\n",
            "monkey\n"
          ]
        }
      ]
    },
    {
      "cell_type": "markdown",
      "source": [
        "If you want access to the index of each element within the body of a loop, use the built-in `enumerate` function:"
      ],
      "metadata": {
        "id": "ufzAK2jwcxNh"
      }
    },
    {
      "cell_type": "code",
      "source": [
        "animals = ['cat', 'dog', 'monkey']\n",
        "for idx, animal in enumerate(animals, start=1):\n",
        "    # print a numbered list of the animals\n",
        "    print(f\"{idx}. {animal}\")"
      ],
      "metadata": {
        "id": "IGalXl52csd3",
        "colab": {
          "base_uri": "https://localhost:8080/"
        },
        "outputId": "1db6d8b0-0690-43bd-bc9f-86b2e7b0dcf6"
      },
      "execution_count": null,
      "outputs": [
        {
          "output_type": "stream",
          "name": "stdout",
          "text": [
            "1. cat\n",
            "2. dog\n",
            "3. monkey\n"
          ]
        }
      ]
    },
    {
      "cell_type": "markdown",
      "source": [
        "## List comprehensions"
      ],
      "metadata": {
        "id": "YPVtnoINc-az"
      }
    },
    {
      "cell_type": "markdown",
      "source": [
        "When programming, frequently we want to transform one type of data into another. As a simple example, consider the following code that computes square numbers:"
      ],
      "metadata": {
        "id": "oEFaZjKtdK6S"
      }
    },
    {
      "cell_type": "code",
      "source": [
        "nums = [0, 1, 2, 3, 4]\n",
        "squares = []\n",
        "for x in nums:\n",
        "    squares.append(x ** 2)\n",
        "print(squares)"
      ],
      "metadata": {
        "colab": {
          "base_uri": "https://localhost:8080/"
        },
        "id": "SLtVOHEHdCea",
        "outputId": "e3802b34-b861-49ae-be4f-f2d592146135"
      },
      "execution_count": null,
      "outputs": [
        {
          "output_type": "stream",
          "name": "stdout",
          "text": [
            "[0, 1, 4, 9, 16]\n"
          ]
        }
      ]
    },
    {
      "cell_type": "markdown",
      "source": [
        "You can make this code simpler using a list comprehension:"
      ],
      "metadata": {
        "id": "q4lOgDYbdTXK"
      }
    },
    {
      "cell_type": "code",
      "source": [
        "nums = [0, 1, 2, 3, 4]\n",
        "\n",
        "# ADD CODE HERE\n",
        "squares = [x ** 2 for x in nums]\n",
        "print(squares)"
      ],
      "metadata": {
        "id": "ZWRbVvFSdSf-",
        "colab": {
          "base_uri": "https://localhost:8080/"
        },
        "outputId": "3afc327f-7caa-4ffd-98b1-cd0aa08d93e7"
      },
      "execution_count": null,
      "outputs": [
        {
          "output_type": "stream",
          "name": "stdout",
          "text": [
            "[0, 1, 4, 9, 16]\n"
          ]
        }
      ]
    },
    {
      "cell_type": "markdown",
      "source": [
        "List comprehensions can also contain conditions:"
      ],
      "metadata": {
        "id": "H1v0jVFfdhKP"
      }
    },
    {
      "cell_type": "code",
      "source": [
        "nums = [0, 1, 2, 3, 4]\n",
        "even_squares = [x** 2 for x in nums if x%2 == 0]\n",
        "print(even_squares)"
      ],
      "metadata": {
        "id": "qQxvWJ-Ydh1N",
        "colab": {
          "base_uri": "https://localhost:8080/"
        },
        "outputId": "ff23d64b-5c9d-4abb-b90d-ff5b1f768636"
      },
      "execution_count": null,
      "outputs": [
        {
          "output_type": "stream",
          "name": "stdout",
          "text": [
            "[0, 4, 16]\n"
          ]
        }
      ]
    },
    {
      "cell_type": "markdown",
      "source": [
        "## Dictionary"
      ],
      "metadata": {
        "id": "ZCErNLhtdqgK"
      }
    },
    {
      "cell_type": "markdown",
      "source": [
        "A dictionary stores (key, value) pairs, similar to a `Map` in Java or an object in Javascript. You can use it like this:"
      ],
      "metadata": {
        "id": "loOOT2GwdwDX"
      }
    },
    {
      "cell_type": "code",
      "source": [
        "d = {'cat': 'cute', 'dog': 'furry'}  # Create a new dictionary with some data\n",
        "\n",
        "# Get an entry from a dictionary; prints \"cute\"\n",
        "print(d['cat'])\n",
        "\n",
        "\n",
        "# Check if a dictionary has a given key; prints \"True\"\n",
        "\n",
        "\n",
        "# ADD CODE HERE\n",
        "print('cat' in d)\n"
      ],
      "metadata": {
        "id": "cfdWLNEedsaA",
        "colab": {
          "base_uri": "https://localhost:8080/"
        },
        "outputId": "8e13f10e-64fe-40de-9956-4e536ca58eae"
      },
      "execution_count": null,
      "outputs": [
        {
          "output_type": "stream",
          "name": "stdout",
          "text": [
            "cute\n",
            "True\n"
          ]
        }
      ]
    },
    {
      "cell_type": "code",
      "source": [
        "d['fish'] = 'wet'    # Set an entry in a dictionary\n",
        "print(d['fish'])      # Prints \"wet\""
      ],
      "metadata": {
        "id": "N3VLhaoheFqb",
        "colab": {
          "base_uri": "https://localhost:8080/"
        },
        "outputId": "b8b2356f-39e6-42fa-9443-5f09d0153629"
      },
      "execution_count": null,
      "outputs": [
        {
          "output_type": "stream",
          "name": "stdout",
          "text": [
            "wet\n"
          ]
        }
      ]
    },
    {
      "cell_type": "code",
      "source": [
        "# print(d['monkey'])  # KeyError: 'monkey' not a key of d"
      ],
      "metadata": {
        "id": "kKgObCXMeKz0"
      },
      "execution_count": null,
      "outputs": []
    },
    {
      "cell_type": "code",
      "source": [
        "print(d.get('monkey', 'N/A'))  # Get an element with a default; prints \"N/A\"\n",
        "print(d.get('fish', 'N/A'))    # Get an element with a default; prints \"wet\""
      ],
      "metadata": {
        "id": "x7RyxMjseSEr",
        "colab": {
          "base_uri": "https://localhost:8080/"
        },
        "outputId": "105b2e94-05ac-463d-eef2-c4abe168a3fb"
      },
      "execution_count": null,
      "outputs": [
        {
          "output_type": "stream",
          "name": "stdout",
          "text": [
            "N/A\n",
            "wet\n"
          ]
        }
      ]
    },
    {
      "cell_type": "code",
      "source": [
        "del d['fish']        # Remove an element from a dictionary\n",
        "print(d.get('fish', 'N/A')) # \"fish\" is no longer a key; prints \"N/A\""
      ],
      "metadata": {
        "id": "mRkAVvyVeZls",
        "colab": {
          "base_uri": "https://localhost:8080/"
        },
        "outputId": "ec87c4fb-9896-4b4c-82d8-4b25d8519d59"
      },
      "execution_count": null,
      "outputs": [
        {
          "output_type": "stream",
          "name": "stdout",
          "text": [
            "N/A\n"
          ]
        }
      ]
    },
    {
      "cell_type": "markdown",
      "source": [
        "It is easy to iterate over the keys in a dictionary:"
      ],
      "metadata": {
        "id": "y3LEjxZEefKt"
      }
    },
    {
      "cell_type": "code",
      "source": [
        "d = {'person': 2, 'cat': 4, 'spider': 8}\n",
        "for animal, legs in d.items():\n",
        "    print('A {} has {} legs'.format(animal, legs))"
      ],
      "metadata": {
        "id": "KubrxQT6ef1b",
        "colab": {
          "base_uri": "https://localhost:8080/"
        },
        "outputId": "a1ebfbce-9ade-4094-9625-af6134da2f78"
      },
      "execution_count": null,
      "outputs": [
        {
          "output_type": "stream",
          "name": "stdout",
          "text": [
            "A person has 2 legs\n",
            "A cat has 4 legs\n",
            "A spider has 8 legs\n"
          ]
        }
      ]
    },
    {
      "cell_type": "markdown",
      "source": [
        "Dictionary comprehensions: These are similar to list comprehensions, but allow you to easily construct dictionaries. For example:"
      ],
      "metadata": {
        "id": "pJ__ZELBetbt"
      }
    },
    {
      "cell_type": "code",
      "source": [
        "nums = [0, 1, 2, 3, 4]\n",
        "even_num_to_square = {x: x ** 2 for x in nums if x % 2 == 0}\n",
        "print(even_num_to_square)"
      ],
      "metadata": {
        "id": "10ay_uO4enhE",
        "colab": {
          "base_uri": "https://localhost:8080/"
        },
        "outputId": "31013a8d-c2ba-454b-ceca-2b57dcd5c76d"
      },
      "execution_count": null,
      "outputs": [
        {
          "output_type": "stream",
          "name": "stdout",
          "text": [
            "{0: 0, 2: 4, 4: 16}\n"
          ]
        }
      ]
    },
    {
      "cell_type": "code",
      "source": [
        "# Print odd numbers squares using dictionary comprehensions\n",
        "\n",
        "# ADD CODE HERE"
      ],
      "metadata": {
        "id": "TttJElPxe30k"
      },
      "execution_count": null,
      "outputs": []
    },
    {
      "cell_type": "markdown",
      "source": [
        "# Functions\n",
        "\n",
        "Python functions are defined using the `def` keyword. For example:"
      ],
      "metadata": {
        "id": "C0JBMGiJgHF5"
      }
    },
    {
      "cell_type": "code",
      "source": [
        "nums = [-1, 0, 1]\n",
        "\n",
        "# Function to check the sign of the number\n",
        "\n",
        "# ADD CODE HERE\n",
        "def sign(x):\n",
        "  if x > 0:\n",
        "    return \"positive\"\n",
        "  elif x < 0:\n",
        "    return \"negative\"\n",
        "  else:\n",
        "   return \"zero\"\n",
        "\n",
        "for x in nums:\n",
        "    print(sign(x))"
      ],
      "metadata": {
        "id": "y5AYrQQDfM0o",
        "colab": {
          "base_uri": "https://localhost:8080/"
        },
        "outputId": "366f0039-d512-4674-8819-b3582c688937"
      },
      "execution_count": null,
      "outputs": [
        {
          "output_type": "stream",
          "name": "stdout",
          "text": [
            "negative\n",
            "zero\n",
            "positive\n"
          ]
        }
      ]
    },
    {
      "cell_type": "markdown",
      "source": [
        "We will often define functions to take optional keyword arguments, like this:"
      ],
      "metadata": {
        "id": "d1xk5kJHgn5o"
      }
    },
    {
      "cell_type": "code",
      "source": [
        "def hello(name, loud=False):\n",
        "    if loud:\n",
        "        print('HELLO, {}'.format(name.upper()))\n",
        "    else:\n",
        "        print('Hello, {}!'.format(name))\n",
        "\n",
        "hello('Bob')\n",
        "hello('Fred', loud=True)"
      ],
      "metadata": {
        "colab": {
          "base_uri": "https://localhost:8080/"
        },
        "id": "e-0ccFnYghBC",
        "outputId": "4000a985-b39f-4a87-f917-aa96cf2d772d"
      },
      "execution_count": null,
      "outputs": [
        {
          "output_type": "stream",
          "name": "stdout",
          "text": [
            "Hello, Bob!\n",
            "HELLO, FRED\n"
          ]
        }
      ]
    },
    {
      "cell_type": "markdown",
      "source": [
        "`main()` function\n",
        "\n",
        "`def main():`\n",
        "\n",
        "This defines the `main` function where the primary logic of your program will reside. You can include any code or function calls here.\n",
        "\n",
        "`if __name__ == \"__main__\":`\n",
        "\n",
        "This conditional statement checks if the script is being run directly (not imported as a module).\n",
        "`__name__` is a special variable that Python sets to `\"__main__\"` when the script is run directly. If the script is imported into another script, `__name__` will be set to the script's filename instead.\n",
        "If the script is being run directly, the `main()` function is called."
      ],
      "metadata": {
        "id": "4bRqXES1iKEJ"
      }
    },
    {
      "cell_type": "code",
      "source": [
        "def main():\n",
        "\n",
        "    print(\"This is the main function.\")\n",
        "\n",
        "    # Main code goes here\n",
        "    hello('Bob')\n",
        "    hello('Fred', loud=True)\n",
        "\n",
        "if __name__ == \"__main__\":\n",
        "    main()"
      ],
      "metadata": {
        "colab": {
          "base_uri": "https://localhost:8080/"
        },
        "id": "rKtuuxYniKe_",
        "outputId": "9d5389a8-a253-41f3-8236-4b94706aa886"
      },
      "execution_count": null,
      "outputs": [
        {
          "output_type": "stream",
          "name": "stdout",
          "text": [
            "This is the main function.\n",
            "Hello, Bob!\n",
            "HELLO, FRED\n"
          ]
        }
      ]
    },
    {
      "cell_type": "markdown",
      "source": [
        "# Classes\n",
        "\n",
        "The syntax for defining classes in Python is straightforward:"
      ],
      "metadata": {
        "id": "fvNgMSv3gyWX"
      }
    },
    {
      "cell_type": "code",
      "source": [
        "class Greeter:\n",
        "\n",
        "    # Constructor\n",
        "    def __init__(self, name=\"\"):\n",
        "        self.name = name  # Create an instance variable\n",
        "\n",
        "    # Instance method\n",
        "    def greet(self, loud=False):\n",
        "        if loud:\n",
        "          print('HELLO, {}'.format(self.name.upper()))\n",
        "        else:\n",
        "          print('Hello, {}!'.format(self.name))\n",
        "\n",
        "g = Greeter('Fred')  # Construct an instance of the Greeter class\n",
        "g.greet()            # Call an instance method; prints \"Hello, Fred\"\n",
        "g.greet(loud=True)   # Call an instance method; prints \"HELLO, FRED!\""
      ],
      "metadata": {
        "id": "Lz3fNOprg2u2",
        "colab": {
          "base_uri": "https://localhost:8080/"
        },
        "outputId": "2e3a04ab-a431-4af4-9744-651576de2caa"
      },
      "execution_count": null,
      "outputs": [
        {
          "output_type": "stream",
          "name": "stdout",
          "text": [
            "Hello, Fred!\n",
            "HELLO, FRED\n"
          ]
        }
      ]
    },
    {
      "cell_type": "markdown",
      "source": [
        "# Student Tracker Assignment:\n",
        "\n",
        "Create a simple program that allows a user to track and display student grades. This assignment focuses on the use of lists, dictionaries, and basic class structure."
      ],
      "metadata": {
        "id": "nXHauqhZhMTk"
      }
    },
    {
      "cell_type": "markdown",
      "source": [
        "Define a Student Class:\n",
        "\n",
        "The class should have the following attributes:\n",
        "\n",
        "\n",
        "*   `name` (string): The student's name.\n",
        "*   `grades` (dictionary): A dictionary where the keys are subjects and the values are grades.\n",
        "\n",
        "The class should have methods to:\n",
        "* Add or update a grade for a subject.\n",
        "* Display the student's information, including their grades."
      ],
      "metadata": {
        "id": "bJJBnqCnjZ3K"
      }
    },
    {
      "cell_type": "code",
      "source": [
        "class Student:\n",
        "  def __init__(self, name):\n",
        "    self.name = name\n",
        "    self.grade = {'Math':'', 'Physics':'','Bio':''}\n",
        "\n",
        "  def add_grade(self, grade, subject):\n",
        "    self.grade[subject] = grade\n",
        "\n",
        "  def display(self):\n",
        "    print(self.name, self.grade)\n",
        "\n",
        "s1 = Student(\"Long\")\n",
        "s1.add_grade(88, \"Math\")\n",
        "s1.add_grade(90, \"Physics\")\n",
        "s1.add_grade(76, \"Bio\")\n",
        "s1.display()"
      ],
      "metadata": {
        "id": "iBgPkd5ChBhd",
        "colab": {
          "base_uri": "https://localhost:8080/"
        },
        "outputId": "6e2b5244-610c-4713-8d56-96d50f1c41a5"
      },
      "execution_count": null,
      "outputs": [
        {
          "output_type": "stream",
          "name": "stdout",
          "text": [
            "Long {'Math': 88, 'Physics': 90, 'Bio': 76}\n"
          ]
        }
      ]
    },
    {
      "cell_type": "markdown",
      "source": [
        "Create a Function to Manage Students:\n",
        "\n",
        "This function will:\n",
        "1. Create a list of Student objects.\n",
        "2. Add grades for each student.\n",
        "3. Display all students' information.\n"
      ],
      "metadata": {
        "id": "_D8J7bPsj8I7"
      }
    },
    {
      "cell_type": "code",
      "source": [
        "def manage_students():\n",
        "  # ADD CODE HERE\n",
        "    students = []\n",
        "\n",
        "    # Create a list of students\n",
        "    students.append(Student(\"Alice\"))\n",
        "    students.append(Student(\"Bob\"))\n",
        "    students.append(Student(\"Charlie\"))\n",
        "\n",
        "    # Add grades for each student\n",
        "    students[0].add_grade(90, \"Math\")\n",
        "    students[0].add_grade(85, \"Physics\")\n",
        "\n",
        "    students[1].add_grade(78, \"Math\")\n",
        "    students[1].add_grade(82, \"Bio\")\n",
        "\n",
        "    students[2].add_grade(88, \"Math\")\n",
        "    students[2].add_grade(91, \"Physics\")"
      ],
      "metadata": {
        "id": "agarttRckEIm"
      },
      "execution_count": null,
      "outputs": []
    },
    {
      "cell_type": "markdown",
      "source": [
        "Implement the Main Program:\n",
        "\n",
        "Call the `manage_students` function to run the program."
      ],
      "metadata": {
        "id": "pVb4VsChkPEn"
      }
    },
    {
      "cell_type": "code",
      "source": [
        "if __name__ == \"__main__\":\n",
        "    manage_students()"
      ],
      "metadata": {
        "id": "8BirUnrPkUlN"
      },
      "execution_count": null,
      "outputs": []
    }
  ]
}